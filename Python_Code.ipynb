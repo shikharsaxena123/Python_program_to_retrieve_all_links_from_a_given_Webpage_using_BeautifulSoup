{
 "cells": [
  {
   "cell_type": "markdown",
   "id": "93a2b355",
   "metadata": {},
   "source": [
    "# Python program to retrieve all links from a given Webpage using BeautifulSoup"
   ]
  },
  {
   "cell_type": "code",
   "execution_count": 1,
   "id": "094f73f1",
   "metadata": {},
   "outputs": [
    {
     "name": "stdout",
     "output_type": "stream",
     "text": [
      "Requirement already satisfied: beautifulsoup4==4.9.2 in c:\\users\\shikh\\anaconda3\\lib\\site-packages (4.9.2)\n",
      "Requirement already satisfied: soupsieve>1.2 in c:\\users\\shikh\\anaconda3\\lib\\site-packages (from beautifulsoup4==4.9.2) (2.2.1)\n",
      "Note: you may need to restart the kernel to use updated packages.\n"
     ]
    }
   ],
   "source": [
    "pip install beautifulsoup4==4.9.2"
   ]
  },
  {
   "cell_type": "code",
   "execution_count": 2,
   "id": "38a0ab9b",
   "metadata": {},
   "outputs": [
    {
     "name": "stdout",
     "output_type": "stream",
     "text": [
      "Requirement already satisfied: requests==2.24.0 in c:\\users\\shikh\\anaconda3\\lib\\site-packages (2.24.0)\n",
      "Requirement already satisfied: chardet<4,>=3.0.2 in c:\\users\\shikh\\anaconda3\\lib\\site-packages (from requests==2.24.0) (3.0.4)\n",
      "Requirement already satisfied: idna<3,>=2.5 in c:\\users\\shikh\\anaconda3\\lib\\site-packages (from requests==2.24.0) (2.10)\n",
      "Requirement already satisfied: urllib3!=1.25.0,!=1.25.1,<1.26,>=1.21.1 in c:\\users\\shikh\\anaconda3\\lib\\site-packages (from requests==2.24.0) (1.25.11)\n",
      "Requirement already satisfied: certifi>=2017.4.17 in c:\\users\\shikh\\anaconda3\\lib\\site-packages (from requests==2.24.0) (2020.12.5)\n",
      "Note: you may need to restart the kernel to use updated packages.\n"
     ]
    }
   ],
   "source": [
    "pip install requests==2.24.0"
   ]
  },
  {
   "cell_type": "code",
   "execution_count": 4,
   "id": "fb410bc4",
   "metadata": {},
   "outputs": [
    {
     "name": "stdout",
     "output_type": "stream",
     "text": [
      "Enter website Link: https://www.youtube.com/\n",
      "All links of the given websites are: \n",
      "/\n",
      "/\n",
      "https://www.youtube.com/about/\n",
      "https://www.youtube.com/about/press/\n",
      "https://www.youtube.com/about/copyright/\n",
      "/t/contact_us/\n",
      "https://www.youtube.com/creators/\n",
      "https://www.youtube.com/ads/\n",
      "https://developers.google.com/youtube\n",
      "/t/terms\n",
      "https://policies.google.com/privacy?hl=en-GB\n",
      "https://www.youtube.com/about/policies/\n",
      "https://www.youtube.com/howyoutubeworks?utm_campaign=ytgen&utm_source=ythp&utm_medium=LeftNav&utm_content=txt&u=https%3A%2F%2Fwww.youtube.com%2Fhowyoutubeworks%3Futm_source%3Dythp%26utm_medium%3DLeftNav%26utm_campaign%3Dytgen\n",
      "/new\n"
     ]
    }
   ],
   "source": [
    "import requests as rq\n",
    "from bs4 import BeautifulSoup\n",
    "\n",
    "url = input(\"Enter website Link: \")\n",
    "\n",
    "#Check wheather link contains https or http or http call rq.get(url)\n",
    "#else append url to https:// before call rq.get()\n",
    "\n",
    "if(\"https\" or \"http\") in url:\n",
    "    data = rq.get(url)\n",
    "else:\n",
    "    data = rq.get(\"https://\" + url)\n",
    "    \n",
    "#Extract the html data using html.parser of BeautifulSoup\n",
    "s = BeautifulSoup(data.text, \"html.parser\")\n",
    "\n",
    "links = []\n",
    "for link in s.find_all(\"a\"):\n",
    "    links.append(link.get(\"href\"))\n",
    "    \n",
    "print(\"All links of the given websites are: \")\n",
    "for link in links:\n",
    "    print(link)\n",
    "    \n",
    "#Writing the output links to a file(mylinks.txt)\n",
    "with open(\"myLinks.txt\", 'w') as saved:\n",
    "    print(links[:], file=saved)"
   ]
  },
  {
   "cell_type": "code",
   "execution_count": null,
   "id": "aef6c4c8",
   "metadata": {},
   "outputs": [],
   "source": []
  }
 ],
 "metadata": {
  "kernelspec": {
   "display_name": "Python 3",
   "language": "python",
   "name": "python3"
  },
  "language_info": {
   "codemirror_mode": {
    "name": "ipython",
    "version": 3
   },
   "file_extension": ".py",
   "mimetype": "text/x-python",
   "name": "python",
   "nbconvert_exporter": "python",
   "pygments_lexer": "ipython3",
   "version": "3.8.8"
  }
 },
 "nbformat": 4,
 "nbformat_minor": 5
}
